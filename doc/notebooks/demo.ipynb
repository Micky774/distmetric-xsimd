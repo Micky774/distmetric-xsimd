{
 "cells": [
  {
   "cell_type": "markdown",
   "metadata": {},
   "source": [
    "## `scikit-learn` SIMD DistanceMetric (`slsdm`)\n",
    "\n",
    "`slsdm` is a third-party implementation of the `DistanceMetric` computational backend of `scikit-learn` which utilizes SIMD instructions to significantly accelerate distance computations, especially for data with many features. This notebook offers a simple demo and comparison in performance between the scikit-learn with and without these accelerated objects."
   ]
  },
  {
   "cell_type": "code",
   "execution_count": 15,
   "metadata": {},
   "outputs": [
    {
     "name": "stdout",
     "output_type": "stream",
     "text": [
      "The best architecture supported by this build is: sse3"
     ]
    }
   ],
   "source": [
    "from slsdm import get_best_arch, get_distance_metric\n",
    "from sklearn.metrics import DistanceMetric\n",
    "import numpy as np\n",
    "\n",
    "# Print the best architecture that this installation\n",
    "# of slsdm was built to support\n",
    "get_best_arch()\n",
    "\n",
    "random_state = 0\n",
    "n_samples_X = 1_000\n",
    "n_features = 100\n",
    "n_classes = 3\n",
    "\n",
    "rng = np.random.RandomState(random_state)\n",
    "X = rng.uniform(size=(n_samples_X, n_features))\n",
    "y = rng.randint(n_classes, size=n_samples_X)"
   ]
  },
  {
   "cell_type": "code",
   "execution_count": 16,
   "metadata": {},
   "outputs": [],
   "source": [
    "metric = 'euclidean'\n",
    "\n",
    "# We provide a similar API to scikit-learn for grabbing a specific\n",
    "# DistanceMetric instance, however we do so through a public\n",
    "# function as opposed to a static method.\n",
    "dst = get_distance_metric(X, metric=metric)\n",
    "dst_sk = DistanceMetric.get_metric(metric=metric, dtype=X.dtype)"
   ]
  },
  {
   "cell_type": "markdown",
   "metadata": {},
   "source": [
    "We can immediately compare the performance of the two metrics. Note that the performance between the two implementations become more comparable for data with fewer features, however the `slsdm` are never *worse* than the default `scikit-learn` implementations."
   ]
  },
  {
   "cell_type": "code",
   "execution_count": 17,
   "metadata": {},
   "outputs": [
    {
     "name": "stdout",
     "output_type": "stream",
     "text": [
      "9.44 ms ± 15.8 µs per loop (mean ± std. dev. of 7 runs, 100 loops each)\n"
     ]
    }
   ],
   "source": [
    "%timeit dst.pairwise(X)"
   ]
  },
  {
   "cell_type": "code",
   "execution_count": 18,
   "metadata": {},
   "outputs": [
    {
     "name": "stdout",
     "output_type": "stream",
     "text": [
      "20.6 ms ± 52.2 µs per loop (mean ± std. dev. of 7 runs, 10 loops each)\n"
     ]
    }
   ],
   "source": [
    "%timeit dst_sk.pairwise(X)"
   ]
  },
  {
   "cell_type": "markdown",
   "metadata": {},
   "source": [
    "Most of often, rather than using the distance metric objects directly, users will want to provide them to estimators which will then utilize them during their backend computations. This provides a simple, explicit, yet potent way to accelerate the majority of scikiy-learn estimators."
   ]
  },
  {
   "cell_type": "code",
   "execution_count": 19,
   "metadata": {},
   "outputs": [],
   "source": [
    "from sklearn.neighbors import KNeighborsRegressor\n",
    "\n",
    "# Make some dummy data for fit\n",
    "y = rng.randint(n_classes, size=n_samples_X)\n",
    "\n",
    "# Note that you can pass an instance of `DistanceMetric`\n",
    "# directly to the `metric` keyword \n",
    "est = KNeighborsRegressor(n_neighbors=2, metric=dst, algorithm=\"brute\").fit(X, y)\n",
    "est_sk = KNeighborsRegressor(n_neighbors=2, metric=dst_sk, algorithm=\"brute\").fit(X, y)\n"
   ]
  },
  {
   "cell_type": "code",
   "execution_count": 20,
   "metadata": {},
   "outputs": [
    {
     "name": "stdout",
     "output_type": "stream",
     "text": [
      "5.68 ms ± 645 µs per loop (mean ± std. dev. of 7 runs, 100 loops each)\n"
     ]
    }
   ],
   "source": [
    "%timeit est.predict(X)"
   ]
  },
  {
   "cell_type": "code",
   "execution_count": 21,
   "metadata": {},
   "outputs": [
    {
     "name": "stdout",
     "output_type": "stream",
     "text": [
      "12.3 ms ± 637 µs per loop (mean ± std. dev. of 7 runs, 100 loops each)\n"
     ]
    }
   ],
   "source": [
    "%timeit est_sk.predict(X)"
   ]
  },
  {
   "cell_type": "code",
   "execution_count": null,
   "metadata": {},
   "outputs": [],
   "source": []
  }
 ],
 "metadata": {
  "kernelspec": {
   "display_name": "slsdm",
   "language": "python",
   "name": "python3"
  },
  "language_info": {
   "codemirror_mode": {
    "name": "ipython",
    "version": 3
   },
   "file_extension": ".py",
   "mimetype": "text/x-python",
   "name": "python",
   "nbconvert_exporter": "python",
   "pygments_lexer": "ipython3",
   "version": "3.11.4"
  },
  "orig_nbformat": 4
 },
 "nbformat": 4,
 "nbformat_minor": 2
}
